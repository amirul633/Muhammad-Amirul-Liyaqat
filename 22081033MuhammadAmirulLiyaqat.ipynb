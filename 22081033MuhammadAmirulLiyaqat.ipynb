{
 "cells": [
  {
   "cell_type": "code",
   "execution_count": 4,
   "id": "8d926fde",
   "metadata": {
    "executionInfo": {
     "elapsed": 818,
     "status": "ok",
     "timestamp": 1733102597866,
     "user": {
      "displayName": "Hendry Fonda",
      "userId": "07927275800876064015"
     },
     "user_tz": -420
    },
    "id": "8d926fde"
   },
   "outputs": [],
   "source": [
    "inputs = [1, 2, 3]\n",
    "weights = [0.2, 0.8, -0.5]\n",
    "bias = 2"
   ]
  },
  {
   "cell_type": "code",
   "execution_count": 5,
   "id": "e481455a",
   "metadata": {
    "executionInfo": {
     "elapsed": 17,
     "status": "ok",
     "timestamp": 1733102598978,
     "user": {
      "displayName": "Hendry Fonda",
      "userId": "07927275800876064015"
     },
     "user_tz": -420
    },
    "id": "e481455a"
   },
   "outputs": [],
   "source": [
    "output = (inputs[0]*weights[0] +\n",
    "          inputs[1]*weights[1] +\n",
    "          inputs[2]*weights[2] + bias)"
   ]
  },
  {
   "cell_type": "code",
   "execution_count": 6,
   "id": "5da629df",
   "metadata": {
    "colab": {
     "base_uri": "https://localhost:8080/"
    },
    "executionInfo": {
     "elapsed": 16,
     "status": "ok",
     "timestamp": 1733102598978,
     "user": {
      "displayName": "Hendry Fonda",
      "userId": "07927275800876064015"
     },
     "user_tz": -420
    },
    "id": "5da629df",
    "outputId": "766dbd50-3390-4700-ffab-40b9565c229d"
   },
   "outputs": [
    {
     "name": "stdout",
     "output_type": "stream",
     "text": [
      "2.3\n"
     ]
    }
   ],
   "source": [
    "print(output)"
   ]
  },
  {
   "cell_type": "markdown",
   "id": "f5a5cc67",
   "metadata": {
    "id": "f5a5cc67"
   },
   "source": [
    "![image.png](attachment:image.png)"
   ]
  },
  {
   "cell_type": "markdown",
   "id": "b049b809",
   "metadata": {
    "id": "b049b809"
   },
   "source": [
    "https://nnfs.io/bkr/"
   ]
  },
  {
   "cell_type": "markdown",
   "id": "eaa1a4cc",
   "metadata": {
    "id": "eaa1a4cc"
   },
   "source": [
    "## Latihan 1"
   ]
  },
  {
   "cell_type": "markdown",
   "id": "4f30a3dc",
   "metadata": {
    "id": "4f30a3dc"
   },
   "source": [
    "inputs = 1, 2, 3, 4,\n",
    "weights = 0.2, 0.8, -0.5, 1,\n",
    "bias = 1.5\n",
    "\n",
    "Hitung Output..."
   ]
  },
  {
   "cell_type": "markdown",
   "id": "533406a2",
   "metadata": {
    "id": "533406a2"
   },
   "source": [
    "## Layer dengan Numpy"
   ]
  },
  {
   "cell_type": "code",
   "execution_count": 7,
   "id": "9713e234",
   "metadata": {
    "executionInfo": {
     "elapsed": 14,
     "status": "ok",
     "timestamp": 1733102598978,
     "user": {
      "displayName": "Hendry Fonda",
      "userId": "07927275800876064015"
     },
     "user_tz": -420
    },
    "id": "9713e234"
   },
   "outputs": [],
   "source": [
    "import numpy as np"
   ]
  },
  {
   "cell_type": "code",
   "execution_count": 8,
   "id": "7ef5dd83",
   "metadata": {
    "executionInfo": {
     "elapsed": 14,
     "status": "ok",
     "timestamp": 1733102598979,
     "user": {
      "displayName": "Hendry Fonda",
      "userId": "07927275800876064015"
     },
     "user_tz": -420
    },
    "id": "7ef5dd83"
   },
   "outputs": [],
   "source": [
    "inputs = [1.0, 2.0, 3.0, 4.0]"
   ]
  },
  {
   "cell_type": "code",
   "execution_count": 9,
   "id": "f5064a38",
   "metadata": {
    "executionInfo": {
     "elapsed": 14,
     "status": "ok",
     "timestamp": 1733102598979,
     "user": {
      "displayName": "Hendry Fonda",
      "userId": "07927275800876064015"
     },
     "user_tz": -420
    },
    "id": "f5064a38"
   },
   "outputs": [],
   "source": [
    "weights = [0.2, 0.8, -0.5, 1]"
   ]
  },
  {
   "cell_type": "code",
   "execution_count": 10,
   "id": "e29c4fb5",
   "metadata": {
    "executionInfo": {
     "elapsed": 14,
     "status": "ok",
     "timestamp": 1733102598979,
     "user": {
      "displayName": "Hendry Fonda",
      "userId": "07927275800876064015"
     },
     "user_tz": -420
    },
    "id": "e29c4fb5"
   },
   "outputs": [],
   "source": [
    "biases = [1.5]"
   ]
  },
  {
   "cell_type": "code",
   "execution_count": 11,
   "id": "15dd268a",
   "metadata": {
    "executionInfo": {
     "elapsed": 13,
     "status": "ok",
     "timestamp": 1733102598979,
     "user": {
      "displayName": "Hendry Fonda",
      "userId": "07927275800876064015"
     },
     "user_tz": -420
    },
    "id": "15dd268a"
   },
   "outputs": [],
   "source": [
    "layer_outputs = np.dot(weights, inputs) + biases"
   ]
  },
  {
   "cell_type": "code",
   "execution_count": 12,
   "id": "fe0e5e04",
   "metadata": {
    "colab": {
     "base_uri": "https://localhost:8080/"
    },
    "executionInfo": {
     "elapsed": 13,
     "status": "ok",
     "timestamp": 1733102598979,
     "user": {
      "displayName": "Hendry Fonda",
      "userId": "07927275800876064015"
     },
     "user_tz": -420
    },
    "id": "fe0e5e04",
    "outputId": "ff170bb6-56fe-4fe1-f434-7d5dfe7b7426"
   },
   "outputs": [
    {
     "name": "stdout",
     "output_type": "stream",
     "text": [
      "[5.8]\n"
     ]
    }
   ],
   "source": [
    "print(layer_outputs)\n"
   ]
  },
  {
   "cell_type": "markdown",
   "id": "52fc1046",
   "metadata": {
    "id": "52fc1046"
   },
   "source": [
    "https://nnfs.io/cyx/"
   ]
  },
  {
   "cell_type": "markdown",
   "id": "943b330a",
   "metadata": {
    "id": "943b330a"
   },
   "source": [
    "## Latihan 2"
   ]
  },
  {
   "cell_type": "markdown",
   "id": "207b1d80",
   "metadata": {
    "id": "207b1d80"
   },
   "source": [
    "input:\n",
    "    1.0,\n",
    "    2.0,\n",
    "    3.0,\n",
    "    2.5,\n",
    "Weights\n",
    "    0.2,\n",
    "    0.8,\n",
    "    -0.5,\n",
    "    1.0,\n",
    "bias =\n",
    "    2.0,\n",
    "\n",
    "Hitung Output"
   ]
  },
  {
   "cell_type": "markdown",
   "id": "38432ed4",
   "metadata": {
    "id": "38432ed4"
   },
   "source": [
    "# Weights"
   ]
  },
  {
   "cell_type": "code",
   "execution_count": 13,
   "id": "477a46a9",
   "metadata": {
    "executionInfo": {
     "elapsed": 10,
     "status": "ok",
     "timestamp": 1733102598979,
     "user": {
      "displayName": "Hendry Fonda",
      "userId": "07927275800876064015"
     },
     "user_tz": -420
    },
    "id": "477a46a9"
   },
   "outputs": [],
   "source": [
    "# Contoh Prediksi\n",
    "def predict(row, weights):\n",
    " activation = weights[0]\n",
    " for i in range(len(row)-1):\n",
    "  activation += weights[i + 1] * row[i]\n",
    " return 1.0 if activation >= 0.0 else 0.0"
   ]
  },
  {
   "cell_type": "code",
   "execution_count": 14,
   "id": "b3389ff3",
   "metadata": {
    "colab": {
     "base_uri": "https://localhost:8080/"
    },
    "executionInfo": {
     "elapsed": 10,
     "status": "ok",
     "timestamp": 1733102598980,
     "user": {
      "displayName": "Hendry Fonda",
      "userId": "07927275800876064015"
     },
     "user_tz": -420
    },
    "id": "b3389ff3",
    "outputId": "88f614d9-8d58-4e4d-9a05-6a5db033dcb0"
   },
   "outputs": [
    {
     "name": "stdout",
     "output_type": "stream",
     "text": [
      "Expected=0,Predicted=0\n",
      "Expected=0,Predicted=0\n",
      "Expected=0,Predicted=0\n",
      "Expected=0,Predicted=0\n",
      "Expected=0,Predicted=0\n",
      "Expected=1,Predicted=1\n",
      "Expected=1,Predicted=1\n",
      "Expected=1,Predicted=1\n",
      "Expected=1,Predicted=1\n",
      "Expected=1,Predicted=1\n"
     ]
    }
   ],
   "source": [
    "# Contoh Prediksi\n",
    "# membuat prediksi dengan weights\n",
    "def predict(row, weights):\n",
    "  activation = weights[0]\n",
    "  for i in range(len(row)-1):\n",
    "    activation += weights[i + 1] * row[i]\n",
    "  return 1.0 if activation >= 0.0 else 0.0\n",
    "dataset = [[2.7810836, 2.550537003, 0],\n",
    "\t     [1.465489372, 2.362125076, 0],\n",
    "\t     [3.396561688, 4.400293529, 0],\n",
    "\t     [1.38807019, 1.850220317, 0],\n",
    "\t     [3.06407232, 3.005305973, 0],\n",
    "\t     [7.627531214, 2.759262235, 1],\n",
    "\t     [5.332441248, 2.088626775, 1],\n",
    "\t     [6.922596716, 1.77106367, 1],\n",
    "\t     [8.675418651, -0.242068655, 1],\n",
    "\t     [7.673756466, 3.508563011, 1]]\n",
    "weights = [-0.1, 0.20653640140000007, -0.23418117710000003]\n",
    "for row in dataset:\n",
    "  prediction = predict(row, weights)\n",
    "  print(\"Expected=%d,Predicted=%d\"% (row[-1], prediction))"
   ]
  },
  {
   "cell_type": "code",
   "execution_count": 15,
   "id": "dae0a429",
   "metadata": {
    "colab": {
     "base_uri": "https://localhost:8080/"
    },
    "executionInfo": {
     "elapsed": 9,
     "status": "ok",
     "timestamp": 1733102598980,
     "user": {
      "displayName": "Hendry Fonda",
      "userId": "07927275800876064015"
     },
     "user_tz": -420
    },
    "id": "dae0a429",
    "outputId": "b999416e-4434-4ff1-bb82-c032349ce458"
   },
   "outputs": [
    {
     "name": "stdout",
     "output_type": "stream",
     "text": [
      ">epoch=0,lrate=0.100,error=2.000\n",
      ">epoch=1,lrate=0.100,error=1.000\n",
      ">epoch=2,lrate=0.100,error=0.000\n",
      ">epoch=3,lrate=0.100,error=0.000\n",
      ">epoch=4,lrate=0.100,error=0.000\n",
      "[-0.1, 0.20653640140000007, -0.23418117710000003]\n"
     ]
    }
   ],
   "source": [
    "# Controh pelatihan weight\n",
    "# Membuat prediksi dengan weight\n",
    "def predict(row, weights):\n",
    "  activation = weights[0]\n",
    "  for i in range(len(row)-1):\n",
    "    activation += weights[i + 1] * row[i]\n",
    "  return 1.0 if activation >= 0.0 else 0.0\n",
    "\n",
    "#EstimatePerceptronweightsusingstochasticgradientdescent\n",
    "def train_weights(train, l_rate, n_epoch):\n",
    "  weights = [0.0 for i in range(len(train[0]))]\n",
    "\n",
    "  for epoch in range(n_epoch):\n",
    "    sum_error = 0.0\n",
    "    for row in train:\n",
    "      prediction = predict(row, weights)\n",
    "      error = row[-1] - prediction\n",
    "      sum_error += error**2\n",
    "      weights[0] = weights[0] + l_rate * error\n",
    "      for i in range(len(row)-1):\n",
    "        weights[i + 1] = weights[i + 1] + l_rate * error * row[i]\n",
    "    print('>epoch=%d,lrate=%.3f,error=%.3f' % (epoch, l_rate, sum_error))\n",
    "  return weights\n",
    "\n",
    "# Hitung Weights\n",
    "dataset = [[2.7810836, 2.550537003, 0],\n",
    "\t     [1.465489372, 2.362125076, 0],\n",
    "\t     [3.396561688, 4.400293529, 0],\n",
    "\t     [1.38807019, 1.850220317, 0],\n",
    "\t     [3.06407232, 3.005305973, 0],\n",
    "\t     [7.627531214, 2.759262235, 1],\n",
    "\t     [5.332441248, 2.088626775, 1],\n",
    "\t     [6.922596716, 1.77106367, 1],\n",
    "\t     [8.675418651, -0.242068655, 1],\n",
    "\t     [7.673756466, 3.508563011, 1]]\n",
    "l_rate=0.1\n",
    "n_epoch = 5\n",
    "Weights = train_weights(dataset, l_rate, n_epoch)\n",
    "print(weights)\n",
    "\n"
   ]
  },
  {
   "cell_type": "code",
   "execution_count": 16,
   "id": "b4de67cd",
   "metadata": {
    "executionInfo": {
     "elapsed": 3972,
     "status": "ok",
     "timestamp": 1733102602945,
     "user": {
      "displayName": "Hendry Fonda",
      "userId": "07927275800876064015"
     },
     "user_tz": -420
    },
    "id": "b4de67cd"
   },
   "outputs": [],
   "source": [
    "import matplotlib.pyplot as plt\n",
    "import seaborn as sns"
   ]
  },
  {
   "cell_type": "markdown",
   "id": "49309298",
   "metadata": {
    "id": "49309298"
   },
   "source": [
    "## Latihan 3"
   ]
  },
  {
   "cell_type": "markdown",
   "id": "4e799307",
   "metadata": {
    "id": "4e799307"
   },
   "source": [
    "Jika didapat dataset:\n",
    "\n",
    "    1.4\t0.2\t0\n",
    "    1.4\t0.2\t0\n",
    "    1.3\t0.2\t0\n",
    "    1.5\t0.2\t0\n",
    "    1.4\t0.2\t0\n",
    "    5.2\t2.3\t1\n",
    "    5.0\t1.9\t1\n",
    "    5.2\t2.0\t1\n",
    "    5.4\t2.3\t1\n",
    "    5.1\t1.8\t1\n",
    "\n",
    "Hitung epoch dan Weights"
   ]
  },
  {
   "cell_type": "code",
   "execution_count": 17,
   "id": "c96fd722",
   "metadata": {
    "executionInfo": {
     "elapsed": 6,
     "status": "ok",
     "timestamp": 1733102602946,
     "user": {
      "displayName": "Hendry Fonda",
      "userId": "07927275800876064015"
     },
     "user_tz": -420
    },
    "id": "c96fd722"
   },
   "outputs": [
    {
     "name": "stdout",
     "output_type": "stream",
     "text": [
      ">epoch=0,lrate=0.100,error=2.000\n",
      ">epoch=1,lrate=0.100,error=2.000\n",
      ">epoch=2,lrate=0.100,error=0.000\n",
      ">epoch=3,lrate=0.100,error=0.000\n",
      ">epoch=4,lrate=0.100,error=0.000\n",
      "[-0.1, 0.20653640140000007, -0.23418117710000003]\n"
     ]
    }
   ],
   "source": [
    "# Muhammad Amirul Liyaqat 22081033\n",
    "# Controh pelatihan weight\n",
    "# Membuat prediksi dengan weight\n",
    "def predict(row, weights):\n",
    "  activation = weights[0]\n",
    "  for i in range(len(row)-1):\n",
    "    activation += weights[i + 1] * row[i]\n",
    "  return 1.0 if activation >= 0.0 else 0.0\n",
    "\n",
    "#EstimatePerceptronweightsusingstochasticgradientdescent\n",
    "def train_weights(train, l_rate, n_epoch):\n",
    "  weights = [0.0 for i in range(len(train[0]))]\n",
    "\n",
    "  for epoch in range(n_epoch):\n",
    "    sum_error = 0.0\n",
    "    for row in train:\n",
    "      prediction = predict(row, weights)\n",
    "      error = row[-1] - prediction\n",
    "      sum_error += error**2\n",
    "      weights[0] = weights[0] + l_rate * error\n",
    "      for i in range(len(row)-1):\n",
    "        weights[i + 1] = weights[i + 1] + l_rate * error * row[i]\n",
    "    print('>epoch=%d,lrate=%.3f,error=%.3f' % (epoch, l_rate, sum_error))\n",
    "  return weights\n",
    "\n",
    "# Hitung Weights\n",
    "dataset = [\n",
    "    [1.4, 0.2, 0],\n",
    "    [1.4, 0.2, 0],\n",
    "    [1.3, 0.2, 0],\n",
    "    [1.5, 0.2, 0],\n",
    "    [1.4, 0.2, 0],\n",
    "    [5.2, 2.3, 1],\n",
    "    [5.0, 1.9, 1],\n",
    "    [5.2, 2.0, 1],\n",
    "    [5.4, 2.3, 1],\n",
    "    [5.1, 1.8, 1]\n",
    "]\n",
    "n_epoch = 5\n",
    "Weights = train_weights(dataset, l_rate, n_epoch)\n",
    "print(weights)"
   ]
  }
 ],
 "metadata": {
  "colab": {
   "provenance": []
  },
  "kernelspec": {
   "display_name": "Python 3 (ipykernel)",
   "language": "python",
   "name": "python3"
  },
  "language_info": {
   "codemirror_mode": {
    "name": "ipython",
    "version": 3
   },
   "file_extension": ".py",
   "mimetype": "text/x-python",
   "name": "python",
   "nbconvert_exporter": "python",
   "pygments_lexer": "ipython3",
   "version": "3.10.15"
  }
 },
 "nbformat": 4,
 "nbformat_minor": 5
}
